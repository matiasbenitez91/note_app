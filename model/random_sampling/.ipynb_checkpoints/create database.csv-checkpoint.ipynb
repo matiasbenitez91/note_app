{
 "cells": [
  {
   "cell_type": "code",
   "execution_count": 1,
   "metadata": {},
   "outputs": [],
   "source": [
    "## create dataset for web app"
   ]
  },
  {
   "cell_type": "code",
   "execution_count": 1,
   "metadata": {},
   "outputs": [],
   "source": [
    "import pandas as pd\n",
    "import numpy as np\n",
    "import pickle\n",
    "from pathlib import Path\n",
    "home = str(Path.home())"
   ]
  },
  {
   "cell_type": "code",
   "execution_count": 2,
   "metadata": {},
   "outputs": [],
   "source": [
    "control=pd.read_csv(home+'/Documents/ipredict/control_labels.csv')\n",
    "test=pd.read_csv('Test_set.csv')\n",
    "table = pd.read_excel('table.xlsm')\n",
    "all_reports=pd.read_csv('all_reports_clean.csv')\n",
    "list_tokens=pickle.load(open('all_valid_reports.p', 'rb'))\n",
    "\n",
    "M0=control.loc[:99, 'Report#']"
   ]
  },
  {
   "cell_type": "code",
   "execution_count": 3,
   "metadata": {},
   "outputs": [],
   "source": [
    "control.rename(columns={'Lung':'Lungs','Liver+GallBladder':'Liver + gall bladder', 'Kidney':'Kidneys'}, inplace=True)\n",
    "tt=test[['Report#','Lungs','Liver + gall bladder', 'Kidneys']].append(control, ignore_index=True)"
   ]
  },
  {
   "cell_type": "code",
   "execution_count": 4,
   "metadata": {},
   "outputs": [],
   "source": [
    "df=all_reports.join(control.set_index('Report#'), on='Report#')\n",
    "df=all_reports.join(tt[['Report#','Lungs','Liver + gall bladder', 'Kidneys']].set_index('Report#'), on='Report#')"
   ]
  },
  {
   "cell_type": "code",
   "execution_count": 5,
   "metadata": {},
   "outputs": [],
   "source": [
    "def valid(report):\n",
    "    if report not in set(test['Report#'].tolist()) and report not in set(M0.tolist()):\n",
    "        return True\n",
    "    else:\n",
    "        return False\n",
    "def group(report):\n",
    "    if report in set(test['Report#'].tolist()):\n",
    "        return 'test'\n",
    "    elif report in set(control['Report#'].tolist()):\n",
    "        return 'control'\n",
    "df['note_clinician']=float('NaN')\n",
    "df['valid']=df['Report#'].apply(valid)\n",
    "df['group']=df['Report#'].apply(group)\n",
    "    "
   ]
  },
  {
   "cell_type": "code",
   "execution_count": 7,
   "metadata": {},
   "outputs": [],
   "source": [
    "df['tokens_num']=list_tokens[0]"
   ]
  },
  {
   "cell_type": "code",
   "execution_count": 9,
   "metadata": {},
   "outputs": [],
   "source": [
    "df['determinants']=float('inf')\n",
    "df.to_csv(home+'/Documents/ipredict/note_app/database.csv')"
   ]
  },
  {
   "cell_type": "code",
   "execution_count": 7,
   "metadata": {},
   "outputs": [],
   "source": [
    "df2=pd.read_csv(home+'/Documents/ipredict/note_app/model/saved_models/kidney/database.csv')"
   ]
  },
  {
   "cell_type": "code",
   "execution_count": 20,
   "metadata": {},
   "outputs": [],
   "source": [
    "d=df[['Report#','NOTE_TEXT_1+2','Kidneys','note_clinician','valid', 'group', 'tokens_num']]"
   ]
  },
  {
   "cell_type": "code",
   "execution_count": null,
   "metadata": {},
   "outputs": [],
   "source": []
  },
  {
   "cell_type": "code",
   "execution_count": 21,
   "metadata": {},
   "outputs": [
    {
     "name": "stderr",
     "output_type": "stream",
     "text": [
      "c:\\users\\hp\\anaconda2\\envs\\translator\\lib\\site-packages\\ipykernel_launcher.py:1: SettingWithCopyWarning: \n",
      "A value is trying to be set on a copy of a slice from a DataFrame.\n",
      "Try using .loc[row_indexer,col_indexer] = value instead\n",
      "\n",
      "See the caveats in the documentation: http://pandas.pydata.org/pandas-docs/stable/indexing.html#indexing-view-versus-copy\n",
      "  \"\"\"Entry point for launching an IPython kernel.\n"
     ]
    }
   ],
   "source": [
    "d['entropy']=-float('inf')"
   ]
  },
  {
   "cell_type": "code",
   "execution_count": 23,
   "metadata": {},
   "outputs": [],
   "source": [
    "d.to_csv('database.csv', index=False)"
   ]
  },
  {
   "cell_type": "code",
   "execution_count": 3,
   "metadata": {},
   "outputs": [],
   "source": [
    "data=pickle.load(open(\"test.p\", \"rb\"))\n",
    "pickle.dump(data, open(\"test.p\",\"wb\"), protocol=2)\n",
    "\n",
    "\n",
    "data1=pickle.load(open(\"M0.p\", \"rb\"))\n",
    "pickle.dump(data1, open(\"M0.p\",\"wb\"), protocol=2)\n",
    "\n",
    "\n",
    "data2=pickle.load(open(home+\"/Documents/ipredict/note_app/model/new_dict_updt.p\", \"rb\"))\n",
    "pickle.dump(data2, open(home+\"/Documents/ipredict/note_app/model/new_dict_updt.p\", \"wb\"), protocol=2)"
   ]
  },
  {
   "cell_type": "code",
   "execution_count": null,
   "metadata": {},
   "outputs": [],
   "source": []
  }
 ],
 "metadata": {
  "kernelspec": {
   "display_name": "Python 3",
   "language": "python",
   "name": "python3"
  },
  "language_info": {
   "codemirror_mode": {
    "name": "ipython",
    "version": 3
   },
   "file_extension": ".py",
   "mimetype": "text/x-python",
   "name": "python",
   "nbconvert_exporter": "python",
   "pygments_lexer": "ipython3",
   "version": "3.6.6"
  }
 },
 "nbformat": 4,
 "nbformat_minor": 2
}
