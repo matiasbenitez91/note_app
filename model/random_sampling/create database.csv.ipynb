{
 "cells": [
  {
   "cell_type": "code",
   "execution_count": 1,
   "metadata": {
    "collapsed": true
   },
   "outputs": [],
   "source": [
    "## create dataset for web app"
   ]
  },
  {
   "cell_type": "code",
   "execution_count": 2,
   "metadata": {
    "collapsed": true
   },
   "outputs": [],
   "source": [
    "import pandas as pd\n",
    "import numpy as np\n",
    "import pickle\n",
    "from pathlib import Path\n",
    "home = str(Path.home())"
   ]
  },
  {
   "cell_type": "code",
   "execution_count": 3,
   "metadata": {
    "collapsed": true
   },
   "outputs": [],
   "source": [
    "control=pd.read_csv(home+'/Documents/ipredict/Datasets_SPIE/control_labels.csv')\n",
    "test=pd.read_csv('Test_set.csv')\n",
    "table = pd.read_excel('CT CAP.xlsx')\n",
    "all_reports=pd.read_csv('all_reports_clean.csv')\n",
    "list_tokens=pickle.load(open('all_valid_reports.p', 'rb'))\n",
    "M0=control.loc[:99, 'Report#']"
   ]
  },
  {
   "cell_type": "code",
   "execution_count": null,
   "metadata": {
    "collapsed": true
   },
   "outputs": [],
   "source": []
  },
  {
   "cell_type": "code",
   "execution_count": 4,
   "metadata": {
    "collapsed": true
   },
   "outputs": [],
   "source": [
    "control.rename(columns={'Lung':'Lungs','Liver+GallBladder':'Liver + gall bladder', 'Kidney':'Kidneys'}, inplace=True)\n",
    "tt=test[['Report#','Lungs','Liver + gall bladder', 'Kidneys']].append(control, ignore_index=True)"
   ]
  },
  {
   "cell_type": "code",
   "execution_count": 5,
   "metadata": {
    "collapsed": true
   },
   "outputs": [],
   "source": [
    "df=all_reports.join(control.set_index('Report#'), on='Report#')\n",
    "df=all_reports.join(tt[['Report#','Lungs','Liver + gall bladder', 'Kidneys']].set_index('Report#'), on='Report#')"
   ]
  },
  {
   "cell_type": "code",
   "execution_count": 6,
   "metadata": {
    "collapsed": true
   },
   "outputs": [],
   "source": [
    "def valid(report):\n",
    "    if report not in set(test['Report#'].tolist()) and report not in set(M0.tolist()):\n",
    "        return True\n",
    "    else:\n",
    "        return False\n",
    "def group(report):\n",
    "    if report in set(test['Report#'].tolist()):\n",
    "        return 'test'\n",
    "    elif report in set(control['Report#'].tolist()):\n",
    "        return 'control'\n",
    "df['note_clinician']=float('NaN')\n",
    "df['valid']=df['Report#'].apply(valid)\n",
    "df['group']=df['Report#'].apply(group)\n",
    "    "
   ]
  },
  {
   "cell_type": "code",
   "execution_count": 8,
   "metadata": {},
   "outputs": [
    {
     "data": {
      "text/plain": [
       "293"
      ]
     },
     "execution_count": 8,
     "metadata": {},
     "output_type": "execute_result"
    }
   ],
   "source": [
    "len(df.loc[df.group=='test',:])"
   ]
  },
  {
   "cell_type": "code",
   "execution_count": 9,
   "metadata": {
    "collapsed": true
   },
   "outputs": [],
   "source": [
    "df['tokens_num']=list_tokens[0]"
   ]
  },
  {
   "cell_type": "code",
   "execution_count": 10,
   "metadata": {
    "collapsed": true
   },
   "outputs": [],
   "source": [
    "df['determinants']=float('inf')\n",
    "df.to_csv(home+'/Documents/ipredict/note_app/database.csv')"
   ]
  },
  {
   "cell_type": "code",
   "execution_count": 12,
   "metadata": {},
   "outputs": [
    {
     "data": {
      "text/plain": [
       "4164"
      ]
     },
     "execution_count": 12,
     "metadata": {},
     "output_type": "execute_result"
    }
   ],
   "source": [
    "len(df)\n"
   ]
  },
  {
   "cell_type": "code",
   "execution_count": null,
   "metadata": {
    "collapsed": true
   },
   "outputs": [],
   "source": []
  }
 ],
 "metadata": {
  "kernelspec": {
   "display_name": "Python 3",
   "language": "python",
   "name": "python3"
  },
  "language_info": {
   "codemirror_mode": {
    "name": "ipython",
    "version": 3
   },
   "file_extension": ".py",
   "mimetype": "text/x-python",
   "name": "python",
   "nbconvert_exporter": "python",
   "pygments_lexer": "ipython3",
   "version": "3.6.6"
  }
 },
 "nbformat": 4,
 "nbformat_minor": 2
}
