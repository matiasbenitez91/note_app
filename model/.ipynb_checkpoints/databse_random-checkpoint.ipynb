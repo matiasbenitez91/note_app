{
 "cells": [
  {
   "cell_type": "code",
   "execution_count": 3,
   "metadata": {},
   "outputs": [],
   "source": [
    "import pandas as pd\n",
    "import numpy as np\n",
    "import pickle\n",
    "import math\n",
    "\n",
    "init = pd.read_csv('random_sampling/M0_clean.csv')\n",
    "\n",
    "db= pd.read_csv('saved_models/database.csv')"
   ]
  },
  {
   "cell_type": "code",
   "execution_count": 5,
   "metadata": {},
   "outputs": [
    {
     "data": {
      "text/html": [
       "<div>\n",
       "<style scoped>\n",
       "    .dataframe tbody tr th:only-of-type {\n",
       "        vertical-align: middle;\n",
       "    }\n",
       "\n",
       "    .dataframe tbody tr th {\n",
       "        vertical-align: top;\n",
       "    }\n",
       "\n",
       "    .dataframe thead th {\n",
       "        text-align: right;\n",
       "    }\n",
       "</style>\n",
       "<table border=\"1\" class=\"dataframe\">\n",
       "  <thead>\n",
       "    <tr style=\"text-align: right;\">\n",
       "      <th></th>\n",
       "      <th>Report#</th>\n",
       "      <th>NOTE_TEXT_1+2</th>\n",
       "      <th>Kidneys</th>\n",
       "      <th>note_clinician</th>\n",
       "      <th>valid</th>\n",
       "      <th>group</th>\n",
       "      <th>tokens_num</th>\n",
       "      <th>entropy</th>\n",
       "    </tr>\n",
       "  </thead>\n",
       "  <tbody>\n",
       "    <tr>\n",
       "      <th>0</th>\n",
       "      <td>6</td>\n",
       "      <td>CT Chest with IV Contrast   CT Abdomen and Pel...</td>\n",
       "      <td>1.0</td>\n",
       "      <td>NaN</td>\n",
       "      <td>False</td>\n",
       "      <td>test</td>\n",
       "      <td>[3, 82, 28, 12, 61, 7, 142, 13, 23, 176, 175, ...</td>\n",
       "      <td>-inf</td>\n",
       "    </tr>\n",
       "    <tr>\n",
       "      <th>1</th>\n",
       "      <td>11</td>\n",
       "      <td>CT Chest with IV Contrast   CT Abdomen and Pel...</td>\n",
       "      <td>1.0</td>\n",
       "      <td>NaN</td>\n",
       "      <td>False</td>\n",
       "      <td>test</td>\n",
       "      <td>[3, 82, 28, 12, 61, 3188, 100, 857, 176, 140, ...</td>\n",
       "      <td>-inf</td>\n",
       "    </tr>\n",
       "    <tr>\n",
       "      <th>2</th>\n",
       "      <td>28</td>\n",
       "      <td>CT Chest without IV Contrast   CT Abdomen and ...</td>\n",
       "      <td>0.0</td>\n",
       "      <td>NaN</td>\n",
       "      <td>False</td>\n",
       "      <td>test</td>\n",
       "      <td>[3, 82, 243, 73, 61, 7, 142, 509, 28, 5, 6, 37...</td>\n",
       "      <td>-inf</td>\n",
       "    </tr>\n",
       "    <tr>\n",
       "      <th>3</th>\n",
       "      <td>34</td>\n",
       "      <td>EXAM:  CT Chest with contrast    INDICATION: S...</td>\n",
       "      <td>0.0</td>\n",
       "      <td>NaN</td>\n",
       "      <td>False</td>\n",
       "      <td>test</td>\n",
       "      <td>[3, 108, 37, 397, 248, 142, 28, 471, 29, 108, ...</td>\n",
       "      <td>-inf</td>\n",
       "    </tr>\n",
       "    <tr>\n",
       "      <th>4</th>\n",
       "      <td>48</td>\n",
       "      <td>CT Chest with IV Contrast   CT Abdomen and Pel...</td>\n",
       "      <td>0.0</td>\n",
       "      <td>NaN</td>\n",
       "      <td>False</td>\n",
       "      <td>test</td>\n",
       "      <td>[3, 82, 243, 73, 61, 7, 142, 509, 28, 5, 6, 37...</td>\n",
       "      <td>-inf</td>\n",
       "    </tr>\n",
       "  </tbody>\n",
       "</table>\n",
       "</div>"
      ],
      "text/plain": [
       "   Report#                                      NOTE_TEXT_1+2  Kidneys  \\\n",
       "0        6  CT Chest with IV Contrast   CT Abdomen and Pel...      1.0   \n",
       "1       11  CT Chest with IV Contrast   CT Abdomen and Pel...      1.0   \n",
       "2       28  CT Chest without IV Contrast   CT Abdomen and ...      0.0   \n",
       "3       34  EXAM:  CT Chest with contrast    INDICATION: S...      0.0   \n",
       "4       48  CT Chest with IV Contrast   CT Abdomen and Pel...      0.0   \n",
       "\n",
       "   note_clinician  valid group  \\\n",
       "0             NaN  False  test   \n",
       "1             NaN  False  test   \n",
       "2             NaN  False  test   \n",
       "3             NaN  False  test   \n",
       "4             NaN  False  test   \n",
       "\n",
       "                                          tokens_num  entropy  \n",
       "0  [3, 82, 28, 12, 61, 7, 142, 13, 23, 176, 175, ...     -inf  \n",
       "1  [3, 82, 28, 12, 61, 3188, 100, 857, 176, 140, ...     -inf  \n",
       "2  [3, 82, 243, 73, 61, 7, 142, 509, 28, 5, 6, 37...     -inf  \n",
       "3  [3, 108, 37, 397, 248, 142, 28, 471, 29, 108, ...     -inf  \n",
       "4  [3, 82, 243, 73, 61, 7, 142, 509, 28, 5, 6, 37...     -inf  "
      ]
     },
     "execution_count": 5,
     "metadata": {},
     "output_type": "execute_result"
    }
   ],
   "source": [
    "db.head()"
   ]
  },
  {
   "cell_type": "code",
   "execution_count": 12,
   "metadata": {},
   "outputs": [],
   "source": [
    "def get_entropy(p):\n",
    "\t#p=np.array(prob)\n",
    "\tentropy=(-p * np.log2(p)-(1-p)*np.log2(1-p))\n",
    "\treturn entropy\n",
    "#db.loc[db['valid'], 'entropy']\n",
    "db.loc[db['valid'], 'entropy']=db.loc[db['valid'], 'entropy'].apply(get_entropy)"
   ]
  },
  {
   "cell_type": "code",
   "execution_count": 14,
   "metadata": {},
   "outputs": [],
   "source": [
    "db.to_csv(\"saved_models/database.csv\", index=False)"
   ]
  },
  {
   "cell_type": "code",
   "execution_count": 45,
   "metadata": {},
   "outputs": [],
   "source": [
    "set_report=set(init['Report#'].tolist())\n",
    "db['valid']=(db['Report#'].apply(lambda x: x not in set_report))&(db['group']=='control')"
   ]
  },
  {
   "cell_type": "code",
   "execution_count": 46,
   "metadata": {},
   "outputs": [
    {
     "data": {
      "text/plain": [
       "297"
      ]
     },
     "execution_count": 46,
     "metadata": {},
     "output_type": "execute_result"
    }
   ],
   "source": [
    "len(db.loc[db['valid'],:])"
   ]
  },
  {
   "cell_type": "code",
   "execution_count": 48,
   "metadata": {},
   "outputs": [],
   "source": [
    "db.to_csv(\"saved_models/database_random.csv\", index=False)"
   ]
  },
  {
   "cell_type": "code",
   "execution_count": 5,
   "metadata": {},
   "outputs": [],
   "source": [
    "db.to_csv('database.csv', index=False)"
   ]
  },
  {
   "cell_type": "code",
   "execution_count": 7,
   "metadata": {},
   "outputs": [],
   "source": [
    "df=pd.DataFrame(columns=['Report#', 'AUC', 'time'])"
   ]
  },
  {
   "cell_type": "code",
   "execution_count": 8,
   "metadata": {},
   "outputs": [],
   "source": [
    "df.to_csv('lung/auc.csv', index=False)"
   ]
  },
  {
   "cell_type": "code",
   "execution_count": 9,
   "metadata": {},
   "outputs": [],
   "source": [
    "t=pickle.load(open('lung/train.p', 'rb'))"
   ]
  },
  {
   "cell_type": "code",
   "execution_count": 10,
   "metadata": {},
   "outputs": [
    {
     "data": {
      "text/plain": [
       "(119, 3)"
      ]
     },
     "execution_count": 10,
     "metadata": {},
     "output_type": "execute_result"
    }
   ],
   "source": [
    "np.append(t[2], np.array([[1,1,1]]), axis=0).shape"
   ]
  },
  {
   "cell_type": "code",
   "execution_count": 7,
   "metadata": {},
   "outputs": [
    {
     "data": {
      "text/plain": [
       "False"
      ]
     },
     "execution_count": 7,
     "metadata": {},
     "output_type": "execute_result"
    }
   ],
   "source": [
    "float('-inf')>-54654654"
   ]
  },
  {
   "cell_type": "code",
   "execution_count": 39,
   "metadata": {},
   "outputs": [],
   "source": [
    "k=list(range(0,119))"
   ]
  },
  {
   "cell_type": "code",
   "execution_count": 40,
   "metadata": {},
   "outputs": [],
   "source": [
    "def entropy_batch(lis, size):\n",
    "    final=[]\n",
    "    t=list(range(0, len(lis), size))\n",
    "    for i in range(len(t)-1):\n",
    "        final.append(lis[t[i]:t[i+1]])\n",
    "    final.append(lis[t[-1]:])\n",
    "    return final"
   ]
  },
  {
   "cell_type": "code",
   "execution_count": 41,
   "metadata": {},
   "outputs": [],
   "source": [
    "h=entropy_batch(k, 20)"
   ]
  },
  {
   "cell_type": "code",
   "execution_count": null,
   "metadata": {},
   "outputs": [],
   "source": []
  },
  {
   "cell_type": "code",
   "execution_count": null,
   "metadata": {},
   "outputs": [],
   "source": []
  },
  {
   "cell_type": "code",
   "execution_count": null,
   "metadata": {},
   "outputs": [],
   "source": []
  }
 ],
 "metadata": {
  "kernelspec": {
   "display_name": "Python 3",
   "language": "python",
   "name": "python3"
  },
  "language_info": {
   "codemirror_mode": {
    "name": "ipython",
    "version": 3
   },
   "file_extension": ".py",
   "mimetype": "text/x-python",
   "name": "python",
   "nbconvert_exporter": "python",
   "pygments_lexer": "ipython3",
   "version": "3.6.6"
  }
 },
 "nbformat": 4,
 "nbformat_minor": 2
}
