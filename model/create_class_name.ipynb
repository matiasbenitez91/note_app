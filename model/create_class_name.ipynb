{
 "cells": [
  {
   "cell_type": "markdown",
   "metadata": {},
   "source": [
    "## CREATED BY MATIAS BENITEZ 09/28/2018\n",
    "### CODE TO CREATE THE TERMS INCLUDED IN EMB_CLASS FOR LEAM MODEL"
   ]
  },
  {
   "cell_type": "code",
   "execution_count": 1,
   "metadata": {},
   "outputs": [],
   "source": [
    "import pandas as pd\n",
    "import pickle\n",
    "from pathlib import Path\n",
    "home = str(Path.home())"
   ]
  },
  {
   "cell_type": "code",
   "execution_count": 2,
   "metadata": {},
   "outputs": [],
   "source": [
    "dt=pd.read_csv(\"kidney/auc.csv\")"
   ]
  },
  {
   "cell_type": "code",
   "execution_count": 21,
   "metadata": {},
   "outputs": [],
   "source": [
    "dt=pd.read_csv(\"random_sampling/test_clean.csv\")"
   ]
  },
  {
   "cell_type": "code",
   "execution_count": 22,
   "metadata": {},
   "outputs": [
    {
     "data": {
      "text/plain": [
       "293"
      ]
     },
     "execution_count": 22,
     "metadata": {},
     "output_type": "execute_result"
    }
   ],
   "source": [
    "len(dt)"
   ]
  },
  {
   "cell_type": "code",
   "execution_count": 18,
   "metadata": {},
   "outputs": [],
   "source": [
    "import pickle\n",
    "with open(\"random_sampling/test.p\",\"rb\") as f:\n",
    "    pick=pickle.load(f)"
   ]
  },
  {
   "cell_type": "code",
   "execution_count": 19,
   "metadata": {},
   "outputs": [
    {
     "data": {
      "text/plain": [
       "293"
      ]
     },
     "execution_count": 19,
     "metadata": {},
     "output_type": "execute_result"
    }
   ],
   "source": [
    "len(pick[0])"
   ]
  },
  {
   "cell_type": "code",
   "execution_count": 8,
   "metadata": {},
   "outputs": [],
   "source": [
    "#IMPORT DICTIONARY OF MEDICAL TERMS\n",
    "xls=pd.ExcelFile(home+'/Documents/ipredict/updated_terms.xlsx')\n",
    "s1=pd.read_excel(xls, 'Hoja1')"
   ]
  },
  {
   "cell_type": "code",
   "execution_count": 9,
   "metadata": {},
   "outputs": [],
   "source": [
    "#FUNCTION TO CLEAN THE STRINGS\n",
    "def clean(string):\n",
    "    return string.replace('*', '').replace('-','').lower()"
   ]
  },
  {
   "cell_type": "code",
   "execution_count": 10,
   "metadata": {},
   "outputs": [],
   "source": [
    "\n",
    "#CREATE LIST OF GENERAL TERMS AND POS TERMS FOR EACH ORGAN \n",
    "lung=[]\n",
    "for i,name in enumerate(['Lungs', 'Lungs Pos']):\n",
    "    lung.append(s1.loc[:,name].dropna().apply(clean).tolist())\n",
    "\n",
    "    \n",
    "liver=[]\n",
    "for i, name in enumerate(['Liver', 'Liver Pos']):\n",
    "    liver.append(s1.loc[:,name].dropna().apply(clean).tolist())\n",
    "    \n",
    "kidney=[]\n",
    "for i, name in enumerate(['Kidney', 'Kidney Pos']):\n",
    "    kidney.append(s1.loc[:,name].dropna().apply(clean).tolist())\n",
    "\n",
    "#CREATE LIST OF POS GENERAL TERMS\n",
    "general=[]\n",
    "general.append(s1.loc[:,'general'].dropna().apply(clean).tolist()) \n"
   ]
  },
  {
   "cell_type": "code",
   "execution_count": 11,
   "metadata": {},
   "outputs": [],
   "source": [
    "with open('new_dict_updt.p', 'wb') as f:\n",
    "    pickle.dump([lung,  liver, kidney, general], f)"
   ]
  },
  {
   "cell_type": "code",
   "execution_count": null,
   "metadata": {},
   "outputs": [],
   "source": []
  }
 ],
 "metadata": {
  "kernelspec": {
   "display_name": "Python 3",
   "language": "python",
   "name": "python3"
  },
  "language_info": {
   "codemirror_mode": {
    "name": "ipython",
    "version": 3
   },
   "file_extension": ".py",
   "mimetype": "text/x-python",
   "name": "python",
   "nbconvert_exporter": "python",
   "pygments_lexer": "ipython3",
   "version": "3.6.6"
  }
 },
 "nbformat": 4,
 "nbformat_minor": 2
}
